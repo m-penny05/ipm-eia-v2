{
 "cells": [
  {
   "cell_type": "code",
   "execution_count": 1,
   "metadata": {},
   "outputs": [
    {
     "name": "stdout",
     "output_type": "stream",
     "text": [
      "Requirement already satisfied: thefuzz[levenshtein] in c:\\users\\63141\\appdata\\local\\anaconda3\\lib\\site-packages (0.22.1)\n",
      "Requirement already satisfied: rapidfuzz<4.0.0,>=3.0.0 in c:\\users\\63141\\appdata\\local\\anaconda3\\lib\\site-packages (from thefuzz[levenshtein]) (3.9.4)\n"
     ]
    },
    {
     "name": "stderr",
     "output_type": "stream",
     "text": [
      "WARNING: thefuzz 0.22.1 does not provide the extra 'levenshtein'\n"
     ]
    }
   ],
   "source": [
    "# importing packages \n",
    "import pandas as pd\n",
    "!pip install thefuzz[levenshtein]\n",
    "\n",
    "import thefuzz\n",
    "\n",
    "from thefuzz import fuzz\n",
    "from thefuzz import process"
   ]
  },
  {
   "cell_type": "code",
   "execution_count": 3,
   "metadata": {},
   "outputs": [],
   "source": [
    "# naming what columns you want to use from the excel sheet that is about to be loaded in, change file path\n",
    "columns_to_use = ['Plant Name', 'Plant State', 'Technology', 'Net Summer Capacity (MW)', 'County', 'Plant ID', 'Status']\n",
    "eia_path = \"C:\\\\Users\\\\63141\\\\Desktop\\\\github_files_v2\\\\eia_may_24.xlsx\"\n",
    "df_eia = pd.read_excel(eia_path, sheet_name = \"Operating\", usecols = columns_to_use, skiprows = 2)\n",
    "\n",
    "columns_to_use1 = ['Plant Name', 'State', 'Capacity Type - Sub Type', 'Capacity Modeled', 'County', 'EIA Plant Code', 'On-Line Date']\n",
    "ipm_path = \"C:\\\\Users\\\\63141\\\\Desktop\\\\github_files_v2\\\\IPM2023.xlsx\"\n",
    "df_ipm = pd.read_excel(ipm_path,sheet_name=\"qry\", usecols=columns_to_use1, skiprows = 1)"
   ]
  },
  {
   "cell_type": "code",
   "execution_count": 4,
   "metadata": {},
   "outputs": [],
   "source": [
    "# renaming columns to match each other\n",
    "df_ipm.rename(columns={'EIA Plant Code': 'Plant Code', 'Capacity Type - Sub Type' : 'Technology'}, inplace=True)\n",
    "df_eia.rename(columns={'Plant ID': 'Plant Code', 'Plant State' : 'State'}, inplace=True)\n",
    "\n",
    "# loading in the excel with the technology dictionary for the matching, change path\n",
    "tech_dict_path = \"C:\\\\Users\\\\63141\\\\Desktop\\\\github files\\\\tech-lookups.xlsx\"\n",
    "\n",
    "tech_dict_eia = pd.read_excel(tech_dict_path, sheet_name = \"EIA\")\n",
    "tech_dict_ipm = pd.read_excel(tech_dict_path, sheet_name = \"IPM\")\n"
   ]
  },
  {
   "cell_type": "code",
   "execution_count": 5,
   "metadata": {},
   "outputs": [],
   "source": [
    "# Merge EIA and IPM with tech dictionary to replace technology names \n",
    "tech_eia = pd.merge(df_eia, tech_dict_eia, how='left', on='Technology')\n",
    "tech_ipm = pd.merge(df_ipm, tech_dict_ipm, how='left', on='Technology')"
   ]
  },
  {
   "cell_type": "code",
   "execution_count": 6,
   "metadata": {},
   "outputs": [],
   "source": [
    "# Go from unit level to plant level by adding together generators with the same plant code, capacity type, and  plant name\n",
    "tech_eia['Net Summer Capacity (MW)'] = pd.to_numeric(tech_eia['Net Summer Capacity (MW)'], errors='coerce')\n",
    "\n",
    "grouped_eia = tech_eia.groupby(['Plant Code', 'Merged Capacity Types', 'Plant Name']).agg({\n",
    "    'Net Summer Capacity (MW)': 'sum',\n",
    "    \"County\": \"first\",\n",
    "    \"State\": \"first\",\n",
    "    \"Status\": \"first\"\n",
    "}).reset_index()\n",
    "\n",
    "tech_ipm['Capacity Modeled'] = pd.to_numeric(tech_ipm['Capacity Modeled'], errors='coerce')\n",
    "\n",
    "\n",
    "grouped_ipm = tech_ipm.groupby(['Plant Code', 'Merged Capacity Types', 'Plant Name']).agg({\n",
    "    'Capacity Modeled': 'sum',\n",
    "    \"County\": \"first\",\n",
    "    \"State\": \"first\",\n",
    "    \"On-Line Date\": \"first\"\n",
    "}).reset_index()"
   ]
  },
  {
   "cell_type": "code",
   "execution_count": 7,
   "metadata": {},
   "outputs": [],
   "source": [
    "df = pd.merge(grouped_eia, grouped_ipm, how='left', on=['Plant Code', 'Merged Capacity Types'], indicator=True)"
   ]
  },
  {
   "cell_type": "code",
   "execution_count": 15,
   "metadata": {},
   "outputs": [],
   "source": [
    "# creates a new data frame called both that is a filter to includes only plants from IPM/EIA that had merge based on plant code\n",
    "both = df[df['_merge'].str.contains('both', case=False, na=False)]\n",
    "#both_path = \"C:\\\\Users\\\\63141\\\\Desktop\\\\github_files_v2\\\\both.xlsx\"\n",
    "#both.to_excel(both_path, index = False)\n"
   ]
  },
  {
   "cell_type": "code",
   "execution_count": 9,
   "metadata": {},
   "outputs": [
    {
     "name": "stderr",
     "output_type": "stream",
     "text": [
      "C:\\Users\\63141\\AppData\\Local\\Temp\\ipykernel_3676\\2308489190.py:3: SettingWithCopyWarning: \n",
      "A value is trying to be set on a copy of a slice from a DataFrame.\n",
      "Try using .loc[row_indexer,col_indexer] = value instead\n",
      "\n",
      "See the caveats in the documentation: https://pandas.pydata.org/pandas-docs/stable/user_guide/indexing.html#returning-a-view-versus-a-copy\n",
      "  both.loc[:, 'ipm_key'] = both['Merged Capacity Types'].astype(str) + both['Plant Name_y'].astype(str)\n",
      "C:\\Users\\63141\\AppData\\Local\\Temp\\ipykernel_3676\\2308489190.py:4: SettingWithCopyWarning: \n",
      "A value is trying to be set on a copy of a slice from a DataFrame.\n",
      "Try using .loc[row_indexer,col_indexer] = value instead\n",
      "\n",
      "See the caveats in the documentation: https://pandas.pydata.org/pandas-docs/stable/user_guide/indexing.html#returning-a-view-versus-a-copy\n",
      "  both.loc[:, 'eia_key'] = both['Merged Capacity Types'].astype(str) + both['Plant Name_x'].astype(str)\n"
     ]
    }
   ],
   "source": [
    "grouped_ipm.loc[:, 'key'] = grouped_ipm['Merged Capacity Types'].astype(str) + grouped_ipm['Plant Name'].astype(str)\n",
    "grouped_eia.loc[:, 'key'] = grouped_eia['Merged Capacity Types'].astype(str) + grouped_eia['Plant Name'].astype(str)\n",
    "both.loc[:, 'ipm_key'] = both['Merged Capacity Types'].astype(str) + both['Plant Name_y'].astype(str)\n",
    "both.loc[:, 'eia_key'] = both['Merged Capacity Types'].astype(str) + both['Plant Name_x'].astype(str)\n"
   ]
  },
  {
   "cell_type": "code",
   "execution_count": 10,
   "metadata": {},
   "outputs": [],
   "source": [
    "filtered_grouped_ipm = grouped_ipm[~grouped_ipm['key'].isin(both['ipm_key'])]\n",
    "\n",
    "filtered_grouped_eia = grouped_eia[~grouped_eia['key'].isin(both['eia_key'])]"
   ]
  },
  {
   "cell_type": "code",
   "execution_count": 14,
   "metadata": {},
   "outputs": [
    {
     "data": {
      "text/plain": [
       "(2787, 8)"
      ]
     },
     "execution_count": 14,
     "metadata": {},
     "output_type": "execute_result"
    }
   ],
   "source": [
    "filtered_grouped_ipm.shape"
   ]
  },
  {
   "cell_type": "code",
   "execution_count": 12,
   "metadata": {},
   "outputs": [],
   "source": [
    "# here I am saving the trimmed down data frames to an excel files because there were problems I encountered when trying to work with the same notebook using the trimmed data frames \n",
    "# we will use these export excel files to go to a new notebook \n",
    "save_path = \"C:\\\\Users\\\\63141\\\\Desktop\\\\github_files_v2\\\\filtered_grouped_ipm.xlsx\"\n",
    "filtered_grouped_ipm.to_excel(save_path, index = False)\n",
    "\n",
    "save_path_eia = \"C:\\\\Users\\\\63141\\\\Desktop\\\\github_files_v2\\\\filtered_grouped_eia.xlsx\"\n",
    "grouped_eia.to_excel(save_path_eia, index = False)"
   ]
  }
 ],
 "metadata": {
  "kernelspec": {
   "display_name": "base",
   "language": "python",
   "name": "python3"
  },
  "language_info": {
   "codemirror_mode": {
    "name": "ipython",
    "version": 3
   },
   "file_extension": ".py",
   "mimetype": "text/x-python",
   "name": "python",
   "nbconvert_exporter": "python",
   "pygments_lexer": "ipython3",
   "version": "3.11.7"
  }
 },
 "nbformat": 4,
 "nbformat_minor": 2
}
