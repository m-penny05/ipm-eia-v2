{
 "cells": [
  {
   "cell_type": "code",
   "execution_count": 1,
   "metadata": {},
   "outputs": [
    {
     "name": "stderr",
     "output_type": "stream",
     "text": [
      "WARNING: thefuzz 0.22.1 does not provide the extra 'levenshtein'\n"
     ]
    },
    {
     "name": "stdout",
     "output_type": "stream",
     "text": [
      "Requirement already satisfied: thefuzz[levenshtein] in c:\\users\\63141\\appdata\\local\\anaconda3\\lib\\site-packages (0.22.1)\n",
      "Requirement already satisfied: rapidfuzz<4.0.0,>=3.0.0 in c:\\users\\63141\\appdata\\local\\anaconda3\\lib\\site-packages (from thefuzz[levenshtein]) (3.9.4)\n"
     ]
    }
   ],
   "source": [
    "import pandas as pd\n",
    "\n",
    "!pip install thefuzz[levenshtein]\n",
    "\n",
    "import thefuzz\n",
    "\n",
    "from thefuzz import fuzz\n",
    "from thefuzz import process"
   ]
  },
  {
   "cell_type": "code",
   "execution_count": 2,
   "metadata": {},
   "outputs": [],
   "source": [
    "# loading in the excel files we just exported in the previous workbook\n",
    "eia_path = \"C:\\\\Users\\\\63141\\\\Desktop\\\\github_files_v2\\\\filtered_grouped_eia.xlsx\"\n",
    "eia = pd.read_excel(eia_path)\n",
    "\n",
    "ipm_path = \"C:\\\\Users\\\\63141\\\\Desktop\\\\github_files_v2\\\\filtered_grouped_ipm.xlsx\"\n",
    "ipm = pd.read_excel(ipm_path)"
   ]
  },
  {
   "cell_type": "code",
   "execution_count": 3,
   "metadata": {},
   "outputs": [
    {
     "name": "stderr",
     "output_type": "stream",
     "text": [
      "C:\\Users\\63141\\AppData\\Local\\Temp\\ipykernel_19192\\2246793782.py:2: FutureWarning: DataFrame.applymap has been deprecated. Use DataFrame.map instead.\n",
      "  eia = eia.applymap(lambda x: x.lower() if isinstance(x, str) else x)\n",
      "C:\\Users\\63141\\AppData\\Local\\Temp\\ipykernel_19192\\2246793782.py:3: FutureWarning: DataFrame.applymap has been deprecated. Use DataFrame.map instead.\n",
      "  ipm = ipm.applymap(lambda x: x.lower() if isinstance(x, str) else x)\n"
     ]
    }
   ],
   "source": [
    "# Turning all letters in the data frame to lowercase so they can match easier \n",
    "eia = eia.applymap(lambda x: x.lower() if isinstance(x, str) else x)\n",
    "ipm = ipm.applymap(lambda x: x.lower() if isinstance(x, str) else x)"
   ]
  },
  {
   "cell_type": "code",
   "execution_count": 5,
   "metadata": {},
   "outputs": [],
   "source": [
    "def fuzzy_merge(df1, df2, key1, key2, county_key, state_key, technology_key, threshold=85, limit=1):\n",
    "    \"\"\"\n",
    "    Perform fuzzy matching and merge between two DataFrames based on plant names,\n",
    "    but only if the county, state, and technology type match. Each plant name can only match once.\n",
    "\n",
    "    df1, df2: DataFrames to merge\n",
    "    key1, key2: Column names for plant names to merge on\n",
    "    county_key: Column name for counties to match\n",
    "    state_key: Column name for states to match\n",
    "    technology_key: Column name for technology to match\n",
    "    threshold: Minimum similarity score to consider a match\n",
    "    limit: Number of matches to return (best match)\n",
    "    \"\"\"\n",
    "    matched_names = set()\n",
    "    used_names = set()  # To keep track of names already used in matches\n",
    "\n",
    "    def match_row(row):\n",
    "        # Filter df2 based on matching county, state, and technology type\n",
    "        filtered_df2 = df2[\n",
    "            (df2[county_key] == row[county_key]) &\n",
    "            (df2[state_key] == row[state_key]) &\n",
    "            (df2[technology_key] == row[technology_key])\n",
    "        ]\n",
    "\n",
    "        # Apply fuzzy matching on the filtered DataFrame\n",
    "        if not filtered_df2.empty and pd.notnull(row[key1]):\n",
    "            s = filtered_df2[key2].tolist()\n",
    "            # Filter out names already used in previous matches\n",
    "            s = [name for name in s if name not in used_names]\n",
    "            if not s:\n",
    "                return pd.Series([None, None], index=['best_match', 'match_score'])\n",
    "\n",
    "            best_match = process.extractOne(row[key1], s, scorer=fuzz.token_set_ratio)\n",
    "            if best_match and best_match[1] >= threshold:\n",
    "                best_match_name = best_match[0]\n",
    "                used_names.add(best_match_name)  # Mark this name as used\n",
    "                return pd.Series([best_match_name, best_match[1]], index=['best_match', 'match_score'])\n",
    "\n",
    "        return pd.Series([None, None], index=['best_match', 'match_score'])\n",
    "\n",
    "    # Apply matching function\n",
    "    match_results = df1.apply(match_row, axis=1)\n",
    "\n",
    "    # Rename columns to avoid overlap\n",
    "    match_results.columns = ['match_best_match', 'match_match_score']\n",
    "\n",
    "    # Append match results to df1\n",
    "    df1 = df1.join(match_results)\n",
    "\n",
    "    # Perform the merge based on the best matches found\n",
    "    merged_df = pd.merge(df1, df2, left_on='match_best_match', right_on=key2, how='left', suffixes=('', '_df2'))\n",
    "\n",
    "    # Drop the 'match_best_match' column if it exists\n",
    "    if 'match_best_match' in merged_df.columns:\n",
    "        merged_df = merged_df.drop(columns=['match_best_match'])\n",
    "\n",
    "    # Add capacity difference column if both capacity columns exist\n",
    "    if 'Summer Capacity (MW)' in merged_df.columns and 'Summer Dispatchable' in merged_df.columns:\n",
    "        merged_df['Capacity Difference (MW)'] = merged_df['Summer Capacity (MW)'] - merged_df['Summer Dispatchable']\n",
    "\n",
    "    return merged_df\n",
    "\n",
    "# Example usage with your DataFrames:\n",
    "merged_ipm_eia = fuzzy_merge(eia, ipm, \n",
    "                              'Plant Name', 'Plant Name', 'County', 'State', 'Merged Capacity Types', \n",
    "                              threshold=85)"
   ]
  },
  {
   "cell_type": "code",
   "execution_count": 6,
   "metadata": {},
   "outputs": [
    {
     "data": {
      "text/plain": [
       "(291, 17)"
      ]
     },
     "execution_count": 6,
     "metadata": {},
     "output_type": "execute_result"
    }
   ],
   "source": [
    "MS_90 = merged_ipm_eia[merged_ipm_eia['match_match_score'] >= 90]\n",
    "MS_90.shape"
   ]
  },
  {
   "cell_type": "code",
   "execution_count": 7,
   "metadata": {},
   "outputs": [],
   "source": [
    "path = \"C:\\\\Users\\\\63141\\\\Desktop\\\\github_files_v2\\\\GMR1.xlsx\"\n",
    "MS_90.to_excel(path, index = False)"
   ]
  },
  {
   "cell_type": "code",
   "execution_count": 9,
   "metadata": {},
   "outputs": [],
   "source": [
    "# subtracting out the greater than 90 / no capacity mismatch plants from the orginal data frame we first brought in\n",
    "unmatched_plants_ipm = ipm[~ipm['key'].isin(MS_90['key_df2'])]\n",
    "unmatched_plants_eia = eia[~eia['key'].isin(MS_90['key'])]"
   ]
  },
  {
   "cell_type": "code",
   "execution_count": 11,
   "metadata": {},
   "outputs": [],
   "source": [
    "path1 = \"C:\\\\Users\\\\63141\\\\Desktop\\\\github_files_v2\\\\unmatched_ipm_R1.xlsx\"\n",
    "unmatched_plants_ipm.to_excel(path1, index = False)\n",
    "\n",
    "path2 = \"C:\\\\Users\\\\63141\\\\Desktop\\\\github_files_v2\\\\unmatched_eia_R1.xlsx\"\n",
    "unmatched_plants_eia.to_excel(path2, index = False)"
   ]
  }
 ],
 "metadata": {
  "kernelspec": {
   "display_name": "base",
   "language": "python",
   "name": "python3"
  },
  "language_info": {
   "codemirror_mode": {
    "name": "ipython",
    "version": 3
   },
   "file_extension": ".py",
   "mimetype": "text/x-python",
   "name": "python",
   "nbconvert_exporter": "python",
   "pygments_lexer": "ipython3",
   "version": "3.11.7"
  }
 },
 "nbformat": 4,
 "nbformat_minor": 2
}
